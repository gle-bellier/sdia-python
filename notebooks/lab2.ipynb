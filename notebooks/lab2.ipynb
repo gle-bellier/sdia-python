{
 "cells": [
  {
   "cell_type": "code",
   "execution_count": 1,
   "source": [
    "%load_ext autoreload\r\n",
    "%autoreload 2"
   ],
   "outputs": [],
   "metadata": {}
  },
  {
   "cell_type": "code",
   "execution_count": 2,
   "source": [
    "import numpy as np\r\n",
    "\r\n",
    "from lab2.box_window import BoxWindow, UnitBoxWindow, BallWindow"
   ],
   "outputs": [],
   "metadata": {}
  },
  {
   "cell_type": "code",
   "execution_count": 3,
   "source": [
    "a = BoxWindow(np.array([[0, 5], [-1.45, 3.14],[-10,10]]))\r\n",
    "a.bounds.shape\r\n",
    "\r\n",
    "# np.prod(np.diff(a.bounds,axis=1))\r\n",
    "\r\n",
    "a.volume()\r\n"
   ],
   "outputs": [
    {
     "output_type": "execute_result",
     "data": {
      "text/plain": [
       "459.0"
      ]
     },
     "metadata": {},
     "execution_count": 3
    }
   ],
   "metadata": {}
  },
  {
   "cell_type": "code",
   "execution_count": 4,
   "source": [
    "a.bounds[:,0].shape\r\n",
    "\r\n",
    "np.array([1,2,3]).shape"
   ],
   "outputs": [
    {
     "output_type": "execute_result",
     "data": {
      "text/plain": [
       "(3,)"
      ]
     },
     "metadata": {},
     "execution_count": 4
    }
   ],
   "metadata": {}
  },
  {
   "cell_type": "code",
   "execution_count": 5,
   "source": [
    "a = BoxWindow(np.array([[0, 5], [0, 5],[1,2]]))\r\n",
    "x = np.array([1,2,3])\r\n",
    "all(a.bounds[:,0] <= x) and all(x <= a.bounds[:,1])\r\n",
    "# np.array([1,2,3]) in a"
   ],
   "outputs": [
    {
     "output_type": "execute_result",
     "data": {
      "text/plain": [
       "False"
      ]
     },
     "metadata": {},
     "execution_count": 5
    }
   ],
   "metadata": {}
  },
  {
   "cell_type": "code",
   "execution_count": 6,
   "source": [
    "x in a"
   ],
   "outputs": [
    {
     "output_type": "execute_result",
     "data": {
      "text/plain": [
       "False"
      ]
     },
     "metadata": {},
     "execution_count": 6
    }
   ],
   "metadata": {}
  },
  {
   "cell_type": "code",
   "execution_count": 7,
   "source": [
    "a = BoxWindow(np.array([[0, 5], [0, 5]]))\r\n",
    "\r\n",
    "b = np.array([0,0])\r\n",
    "\r\n",
    "a.indicator_function(np.array([0,0]))"
   ],
   "outputs": [
    {
     "output_type": "execute_result",
     "data": {
      "text/plain": [
       "True"
      ]
     },
     "metadata": {},
     "execution_count": 7
    }
   ],
   "metadata": {}
  },
  {
   "cell_type": "code",
   "execution_count": 8,
   "source": [
    "a = UnitBoxWindow(10, np.array([[2.5, 5]]))"
   ],
   "outputs": [],
   "metadata": {}
  },
  {
   "cell_type": "code",
   "execution_count": 18,
   "source": [
    "a = BoxWindow(np.array([[0, 5], [0, 5]]))\r\n",
    "a.rand(n = 4, rng = 1)"
   ],
   "outputs": [
    {
     "output_type": "execute_result",
     "data": {
      "text/plain": [
       "array([[2.55910812, 4.75231848],\n",
       "       [0.72079806, 4.74324724],\n",
       "       [1.55915726, 2.11663224],\n",
       "       [4.13851297, 2.04599568]])"
      ]
     },
     "metadata": {},
     "execution_count": 18
    }
   ],
   "metadata": {}
  }
 ],
 "metadata": {
  "orig_nbformat": 4,
  "language_info": {
   "name": "python",
   "version": "3.8.11",
   "mimetype": "text/x-python",
   "codemirror_mode": {
    "name": "ipython",
    "version": 3
   },
   "pygments_lexer": "ipython3",
   "nbconvert_exporter": "python",
   "file_extension": ".py"
  },
  "kernelspec": {
   "name": "python3",
   "display_name": "Python 3.8.11 64-bit ('sdia-python': conda)"
  },
  "interpreter": {
   "hash": "935a951bc388acd8bb1fd8986b6c403b26117f4f18fa28ab1ba629f3a18aa441"
  }
 },
 "nbformat": 4,
 "nbformat_minor": 2
}